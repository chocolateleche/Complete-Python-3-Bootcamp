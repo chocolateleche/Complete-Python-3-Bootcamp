{
 "cells": [
  {
   "cell_type": "markdown",
   "metadata": {},
   "source": [
    "# Milestone Project 2 - Blackjack Game\n",
    "In this milestone project you will be creating a Complete BlackJack Card Game in Python.\n",
    "\n",
    "Here are the requirements:\n",
    "\n",
    "* You need to create a simple text-based [BlackJack](https://en.wikipedia.org/wiki/Blackjack) game\n",
    "* The game needs to have one player versus an automated dealer.\n",
    "* The player can stand or hit.\n",
    "* The player must be able to pick their betting amount.\n",
    "* You need to keep track of the player's total money.\n",
    "* You need to alert the player of wins, losses, or busts, etc...\n",
    "\n",
    "And most importantly:\n",
    "\n",
    "* **You must use OOP and classes in some portion of your game. You can not just use functions in your game. Use classes to help you define the Deck and the Player's hand. There are many right ways to do this, so explore it well!**\n",
    "\n",
    "\n",
    "Feel free to expand this game. Try including multiple players. Try adding in Double-Down and card splits! Remember to you are free to use any resources you want and as always:\n",
    "\n",
    "# HAVE FUN!"
   ]
  },
  {
   "cell_type": "code",
   "execution_count": 1,
   "metadata": {},
   "outputs": [],
   "source": [
    "class Player():\n",
    "    \n",
    "    def __init__(self, hand, score, money):\n",
    "        self.hand = hand\n",
    "        self.score = score\n",
    "        self.money = money\n",
    "    \n",
    "    # do I need a separate method for each hand and score?\n",
    "    \n",
    "    def bet(money): # subtract bet from money? or should it be doubled/added or subtracted after computer goes?\n",
    "        pass\n",
    "    \n",
    "    def hit(hand): # get some random card from deck\n",
    "        pass\n",
    "    \n",
    "    def stand(): #should go to computer's turn after this\n",
    "        pass\n",
    "    \n",
    "    def bust(hand, score): #check score of cards in hand\n",
    "        pass"
   ]
  },
  {
   "cell_type": "code",
   "execution_count": 11,
   "metadata": {},
   "outputs": [],
   "source": [
    "class Deck():\n",
    "    #what if I came up with 4 separate lists, 1 for each suit?\n",
    "    #wait, do I even need the suits? I just 4 of each card value, right?\n",
    "    \n",
    "    def __init__(self):\n",
    "        self.current = current\n",
    "    \n",
    "    def shuffle(current):\n",
    "        current = []\n",
    "        for i in range(2,11):\n",
    "            current.append(i)\n",
    "            current.append(i)\n",
    "            current.append(i)\n",
    "            current.append(i)\n",
    "        \n",
    "        while current.count(\"A\") < 5:\n",
    "            current.append(\"A\")\n",
    "        \n",
    "        while current.count(\"K\") < 5:\n",
    "            current.append(\"K\")\n",
    "        \n",
    "        while current.count(\"Q\") < 5:\n",
    "            current.append(\"Q\")\n",
    "            \n",
    "        while current.count(\"J\") < 5:\n",
    "            current.append(\"J\")\n",
    "    \n",
    "    def __str__()\n",
    "        \n",
    "    "
   ]
  },
  {
   "cell_type": "code",
   "execution_count": 8,
   "metadata": {},
   "outputs": [],
   "source": [
    "#I need to define a score legend somewhere that says what each card is worth\n",
    "#do i put this in Deck class?"
   ]
  },
  {
   "cell_type": "code",
   "execution_count": 9,
   "metadata": {},
   "outputs": [],
   "source": [
    "x.append(\"A\" * 4)"
   ]
  },
  {
   "cell_type": "code",
   "execution_count": 10,
   "metadata": {},
   "outputs": [
    {
     "data": {
      "text/plain": [
       "['AAAA']"
      ]
     },
     "execution_count": 10,
     "metadata": {},
     "output_type": "execute_result"
    }
   ],
   "source": [
    "x"
   ]
  },
  {
   "cell_type": "code",
   "execution_count": null,
   "metadata": {},
   "outputs": [],
   "source": []
  }
 ],
 "metadata": {
  "kernelspec": {
   "display_name": "Python 3",
   "language": "python",
   "name": "python3"
  },
  "language_info": {
   "codemirror_mode": {
    "name": "ipython",
    "version": 3
   },
   "file_extension": ".py",
   "mimetype": "text/x-python",
   "name": "python",
   "nbconvert_exporter": "python",
   "pygments_lexer": "ipython3",
   "version": "3.7.2"
  }
 },
 "nbformat": 4,
 "nbformat_minor": 1
}
